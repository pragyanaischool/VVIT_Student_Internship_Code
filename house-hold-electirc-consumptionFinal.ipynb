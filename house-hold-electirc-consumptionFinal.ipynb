{
 "cells": [
  {
   "cell_type": "code",
   "execution_count": 1,
   "id": "dda9b420",
   "metadata": {
    "_cell_guid": "b1076dfc-b9ad-4769-8c92-a6c4dae69d19",
    "_uuid": "8f2839f25d086af736a60e9eeb907d3b93b6e0e5",
    "execution": {
     "iopub.execute_input": "2023-12-10T11:02:50.323160Z",
     "iopub.status.busy": "2023-12-10T11:02:50.322823Z",
     "iopub.status.idle": "2023-12-10T11:02:51.105464Z",
     "shell.execute_reply": "2023-12-10T11:02:51.104286Z"
    },
    "papermill": {
     "duration": 0.794069,
     "end_time": "2023-12-10T11:02:51.107827",
     "exception": false,
     "start_time": "2023-12-10T11:02:50.313758",
     "status": "completed"
    },
    "tags": []
   },
   "outputs": [
    {
     "name": "stdout",
     "output_type": "stream",
     "text": [
      "/kaggle/input/electric-power-consumption-data-set/household_power_consumption.txt\n"
     ]
    }
   ],
   "source": [
    "# This Python 3 environment comes with many helpful analytics libraries installed\n",
    "# It is defined by the kaggle/python Docker image: https://github.com/kaggle/docker-python\n",
    "# For example, here's several helpful packages to load\n",
    "\n",
    "import numpy as np # linear algebra\n",
    "import pandas as pd # data processing, CSV file I/O (e.g. pd.read_csv)\n",
    "\n",
    "# Input data files are available in the read-only \"../input/\" directory\n",
    "# For example, running this (by clicking run or pressing Shift+Enter) will list all files under the input directory\n",
    "\n",
    "import os\n",
    "for dirname, _, filenames in os.walk('/kaggle/input'):\n",
    "    for filename in filenames:\n",
    "        print(os.path.join(dirname, filename))\n",
    "\n",
    "# You can write up to 20GB to the current directory (/kaggle/working/) that gets preserved as output when you create a version using \"Save & Run All\" \n",
    "# You can also write temporary files to /kaggle/temp/, but they won't be saved outside of the current session"
   ]
  },
  {
   "cell_type": "code",
   "execution_count": 2,
   "id": "7fffb2df",
   "metadata": {
    "execution": {
     "iopub.execute_input": "2023-12-10T11:02:51.125039Z",
     "iopub.status.busy": "2023-12-10T11:02:51.124559Z",
     "iopub.status.idle": "2023-12-10T11:03:04.373927Z",
     "shell.execute_reply": "2023-12-10T11:03:04.373024Z"
    },
    "papermill": {
     "duration": 13.260483,
     "end_time": "2023-12-10T11:03:04.376455",
     "exception": false,
     "start_time": "2023-12-10T11:02:51.115972",
     "status": "completed"
    },
    "tags": []
   },
   "outputs": [
    {
     "name": "stderr",
     "output_type": "stream",
     "text": [
      "/opt/conda/lib/python3.10/site-packages/scipy/__init__.py:146: UserWarning: A NumPy version >=1.16.5 and <1.23.0 is required for this version of SciPy (detected version 1.24.3\n",
      "  warnings.warn(f\"A NumPy version >={np_minversion} and <{np_maxversion}\"\n"
     ]
    }
   ],
   "source": [
    "import numpy as np\n",
    "import warnings\n",
    "import pandas as pd\n",
    "from sklearn.preprocessing import MinMaxScaler\n",
    "from sklearn.metrics import mean_squared_error\n",
    "from tensorflow.keras.models import Sequential\n",
    "from tensorflow.keras.layers import LSTM, Dense\n",
    "import matplotlib.pyplot as plt\n"
   ]
  },
  {
   "cell_type": "code",
   "execution_count": 3,
   "id": "f99572c0",
   "metadata": {
    "execution": {
     "iopub.execute_input": "2023-12-10T11:03:04.394893Z",
     "iopub.status.busy": "2023-12-10T11:03:04.393913Z",
     "iopub.status.idle": "2023-12-10T11:03:08.022150Z",
     "shell.execute_reply": "2023-12-10T11:03:08.021137Z"
    },
    "papermill": {
     "duration": 3.640001,
     "end_time": "2023-12-10T11:03:08.024724",
     "exception": false,
     "start_time": "2023-12-10T11:03:04.384723",
     "status": "completed"
    },
    "tags": []
   },
   "outputs": [],
   "source": [
    "data = pd.read_csv(\"/kaggle/input/electric-power-consumption-data-set/household_power_consumption.txt\")"
   ]
  },
  {
   "cell_type": "code",
   "execution_count": 4,
   "id": "d20872bd",
   "metadata": {
    "execution": {
     "iopub.execute_input": "2023-12-10T11:03:08.041318Z",
     "iopub.status.busy": "2023-12-10T11:03:08.041008Z",
     "iopub.status.idle": "2023-12-10T11:03:08.057007Z",
     "shell.execute_reply": "2023-12-10T11:03:08.056061Z"
    },
    "papermill": {
     "duration": 0.026356,
     "end_time": "2023-12-10T11:03:08.059007",
     "exception": false,
     "start_time": "2023-12-10T11:03:08.032651",
     "status": "completed"
    },
    "tags": []
   },
   "outputs": [
    {
     "data": {
      "text/html": [
       "<div>\n",
       "<style scoped>\n",
       "    .dataframe tbody tr th:only-of-type {\n",
       "        vertical-align: middle;\n",
       "    }\n",
       "\n",
       "    .dataframe tbody tr th {\n",
       "        vertical-align: top;\n",
       "    }\n",
       "\n",
       "    .dataframe thead th {\n",
       "        text-align: right;\n",
       "    }\n",
       "</style>\n",
       "<table border=\"1\" class=\"dataframe\">\n",
       "  <thead>\n",
       "    <tr style=\"text-align: right;\">\n",
       "      <th></th>\n",
       "      <th>Date;Time;Global_active_power;Global_reactive_power;Voltage;Global_intensity;Sub_metering_1;Sub_metering_2;Sub_metering_3</th>\n",
       "    </tr>\n",
       "  </thead>\n",
       "  <tbody>\n",
       "    <tr>\n",
       "      <th>0</th>\n",
       "      <td>16/12/2006;17:24:00;4.216;0.418;234.840;18.400...</td>\n",
       "    </tr>\n",
       "    <tr>\n",
       "      <th>1</th>\n",
       "      <td>16/12/2006;17:25:00;5.360;0.436;233.630;23.000...</td>\n",
       "    </tr>\n",
       "    <tr>\n",
       "      <th>2</th>\n",
       "      <td>16/12/2006;17:26:00;5.374;0.498;233.290;23.000...</td>\n",
       "    </tr>\n",
       "    <tr>\n",
       "      <th>3</th>\n",
       "      <td>16/12/2006;17:27:00;5.388;0.502;233.740;23.000...</td>\n",
       "    </tr>\n",
       "    <tr>\n",
       "      <th>4</th>\n",
       "      <td>16/12/2006;17:28:00;3.666;0.528;235.680;15.800...</td>\n",
       "    </tr>\n",
       "  </tbody>\n",
       "</table>\n",
       "</div>"
      ],
      "text/plain": [
       "  Date;Time;Global_active_power;Global_reactive_power;Voltage;Global_intensity;Sub_metering_1;Sub_metering_2;Sub_metering_3\n",
       "0  16/12/2006;17:24:00;4.216;0.418;234.840;18.400...                                                                       \n",
       "1  16/12/2006;17:25:00;5.360;0.436;233.630;23.000...                                                                       \n",
       "2  16/12/2006;17:26:00;5.374;0.498;233.290;23.000...                                                                       \n",
       "3  16/12/2006;17:27:00;5.388;0.502;233.740;23.000...                                                                       \n",
       "4  16/12/2006;17:28:00;3.666;0.528;235.680;15.800...                                                                       "
      ]
     },
     "execution_count": 4,
     "metadata": {},
     "output_type": "execute_result"
    }
   ],
   "source": [
    "data.head()"
   ]
  },
  {
   "cell_type": "code",
   "execution_count": 5,
   "id": "c9a28c0b",
   "metadata": {
    "execution": {
     "iopub.execute_input": "2023-12-10T11:03:08.075622Z",
     "iopub.status.busy": "2023-12-10T11:03:08.075076Z",
     "iopub.status.idle": "2023-12-10T11:03:17.757223Z",
     "shell.execute_reply": "2023-12-10T11:03:17.756389Z"
    },
    "papermill": {
     "duration": 9.692944,
     "end_time": "2023-12-10T11:03:17.759735",
     "exception": false,
     "start_time": "2023-12-10T11:03:08.066791",
     "status": "completed"
    },
    "tags": []
   },
   "outputs": [],
   "source": [
    "data = data['Date;Time;Global_active_power;Global_reactive_power;Voltage;Global_intensity;Sub_metering_1;Sub_metering_2;Sub_metering_3'].str.split(';', expand=True)\n",
    "\n"
   ]
  },
  {
   "cell_type": "code",
   "execution_count": 6,
   "id": "11af970e",
   "metadata": {
    "execution": {
     "iopub.execute_input": "2023-12-10T11:03:17.777244Z",
     "iopub.status.busy": "2023-12-10T11:03:17.776952Z",
     "iopub.status.idle": "2023-12-10T11:03:17.781872Z",
     "shell.execute_reply": "2023-12-10T11:03:17.780957Z"
    },
    "papermill": {
     "duration": 0.015715,
     "end_time": "2023-12-10T11:03:17.783785",
     "exception": false,
     "start_time": "2023-12-10T11:03:17.768070",
     "status": "completed"
    },
    "tags": []
   },
   "outputs": [],
   "source": [
    "data.columns = ['Date', 'Time', 'Global_active_power', 'Global_reactive_power', 'Voltage', 'Global_intensity', 'Sub_metering_1', 'Sub_metering_2', 'Sub_metering_3']\n"
   ]
  },
  {
   "cell_type": "code",
   "execution_count": 7,
   "id": "9b5580ec",
   "metadata": {
    "execution": {
     "iopub.execute_input": "2023-12-10T11:03:17.800865Z",
     "iopub.status.busy": "2023-12-10T11:03:17.800519Z",
     "iopub.status.idle": "2023-12-10T11:03:17.825136Z",
     "shell.execute_reply": "2023-12-10T11:03:17.824181Z"
    },
    "papermill": {
     "duration": 0.035928,
     "end_time": "2023-12-10T11:03:17.827667",
     "exception": false,
     "start_time": "2023-12-10T11:03:17.791739",
     "status": "completed"
    },
    "tags": []
   },
   "outputs": [
    {
     "name": "stdout",
     "output_type": "stream",
     "text": [
      "<class 'pandas.core.frame.DataFrame'>\n",
      "RangeIndex: 2075259 entries, 0 to 2075258\n",
      "Data columns (total 9 columns):\n",
      " #   Column                 Dtype \n",
      "---  ------                 ----- \n",
      " 0   Date                   object\n",
      " 1   Time                   object\n",
      " 2   Global_active_power    object\n",
      " 3   Global_reactive_power  object\n",
      " 4   Voltage                object\n",
      " 5   Global_intensity       object\n",
      " 6   Sub_metering_1         object\n",
      " 7   Sub_metering_2         object\n",
      " 8   Sub_metering_3         object\n",
      "dtypes: object(9)\n",
      "memory usage: 142.5+ MB\n"
     ]
    }
   ],
   "source": [
    "data.info()"
   ]
  },
  {
   "cell_type": "code",
   "execution_count": 8,
   "id": "16f341cd",
   "metadata": {
    "execution": {
     "iopub.execute_input": "2023-12-10T11:03:17.846103Z",
     "iopub.status.busy": "2023-12-10T11:03:17.845845Z",
     "iopub.status.idle": "2023-12-10T11:03:17.858239Z",
     "shell.execute_reply": "2023-12-10T11:03:17.857403Z"
    },
    "papermill": {
     "duration": 0.023898,
     "end_time": "2023-12-10T11:03:17.860183",
     "exception": false,
     "start_time": "2023-12-10T11:03:17.836285",
     "status": "completed"
    },
    "tags": []
   },
   "outputs": [
    {
     "data": {
      "text/html": [
       "<div>\n",
       "<style scoped>\n",
       "    .dataframe tbody tr th:only-of-type {\n",
       "        vertical-align: middle;\n",
       "    }\n",
       "\n",
       "    .dataframe tbody tr th {\n",
       "        vertical-align: top;\n",
       "    }\n",
       "\n",
       "    .dataframe thead th {\n",
       "        text-align: right;\n",
       "    }\n",
       "</style>\n",
       "<table border=\"1\" class=\"dataframe\">\n",
       "  <thead>\n",
       "    <tr style=\"text-align: right;\">\n",
       "      <th></th>\n",
       "      <th>Date</th>\n",
       "      <th>Time</th>\n",
       "      <th>Global_active_power</th>\n",
       "      <th>Global_reactive_power</th>\n",
       "      <th>Voltage</th>\n",
       "      <th>Global_intensity</th>\n",
       "      <th>Sub_metering_1</th>\n",
       "      <th>Sub_metering_2</th>\n",
       "      <th>Sub_metering_3</th>\n",
       "    </tr>\n",
       "  </thead>\n",
       "  <tbody>\n",
       "    <tr>\n",
       "      <th>0</th>\n",
       "      <td>16/12/2006</td>\n",
       "      <td>17:24:00</td>\n",
       "      <td>4.216</td>\n",
       "      <td>0.418</td>\n",
       "      <td>234.840</td>\n",
       "      <td>18.400</td>\n",
       "      <td>0.000</td>\n",
       "      <td>1.000</td>\n",
       "      <td>17.000</td>\n",
       "    </tr>\n",
       "    <tr>\n",
       "      <th>1</th>\n",
       "      <td>16/12/2006</td>\n",
       "      <td>17:25:00</td>\n",
       "      <td>5.360</td>\n",
       "      <td>0.436</td>\n",
       "      <td>233.630</td>\n",
       "      <td>23.000</td>\n",
       "      <td>0.000</td>\n",
       "      <td>1.000</td>\n",
       "      <td>16.000</td>\n",
       "    </tr>\n",
       "    <tr>\n",
       "      <th>2</th>\n",
       "      <td>16/12/2006</td>\n",
       "      <td>17:26:00</td>\n",
       "      <td>5.374</td>\n",
       "      <td>0.498</td>\n",
       "      <td>233.290</td>\n",
       "      <td>23.000</td>\n",
       "      <td>0.000</td>\n",
       "      <td>2.000</td>\n",
       "      <td>17.000</td>\n",
       "    </tr>\n",
       "    <tr>\n",
       "      <th>3</th>\n",
       "      <td>16/12/2006</td>\n",
       "      <td>17:27:00</td>\n",
       "      <td>5.388</td>\n",
       "      <td>0.502</td>\n",
       "      <td>233.740</td>\n",
       "      <td>23.000</td>\n",
       "      <td>0.000</td>\n",
       "      <td>1.000</td>\n",
       "      <td>17.000</td>\n",
       "    </tr>\n",
       "    <tr>\n",
       "      <th>4</th>\n",
       "      <td>16/12/2006</td>\n",
       "      <td>17:28:00</td>\n",
       "      <td>3.666</td>\n",
       "      <td>0.528</td>\n",
       "      <td>235.680</td>\n",
       "      <td>15.800</td>\n",
       "      <td>0.000</td>\n",
       "      <td>1.000</td>\n",
       "      <td>17.000</td>\n",
       "    </tr>\n",
       "  </tbody>\n",
       "</table>\n",
       "</div>"
      ],
      "text/plain": [
       "         Date      Time Global_active_power Global_reactive_power  Voltage  \\\n",
       "0  16/12/2006  17:24:00               4.216                 0.418  234.840   \n",
       "1  16/12/2006  17:25:00               5.360                 0.436  233.630   \n",
       "2  16/12/2006  17:26:00               5.374                 0.498  233.290   \n",
       "3  16/12/2006  17:27:00               5.388                 0.502  233.740   \n",
       "4  16/12/2006  17:28:00               3.666                 0.528  235.680   \n",
       "\n",
       "  Global_intensity Sub_metering_1 Sub_metering_2 Sub_metering_3  \n",
       "0           18.400          0.000          1.000         17.000  \n",
       "1           23.000          0.000          1.000         16.000  \n",
       "2           23.000          0.000          2.000         17.000  \n",
       "3           23.000          0.000          1.000         17.000  \n",
       "4           15.800          0.000          1.000         17.000  "
      ]
     },
     "execution_count": 8,
     "metadata": {},
     "output_type": "execute_result"
    }
   ],
   "source": [
    "data.head()"
   ]
  },
  {
   "cell_type": "code",
   "execution_count": 9,
   "id": "5c120892",
   "metadata": {
    "execution": {
     "iopub.execute_input": "2023-12-10T11:03:17.879024Z",
     "iopub.status.busy": "2023-12-10T11:03:17.878525Z",
     "iopub.status.idle": "2023-12-10T11:03:17.883371Z",
     "shell.execute_reply": "2023-12-10T11:03:17.882476Z"
    },
    "papermill": {
     "duration": 0.016443,
     "end_time": "2023-12-10T11:03:17.885374",
     "exception": false,
     "start_time": "2023-12-10T11:03:17.868931",
     "status": "completed"
    },
    "tags": []
   },
   "outputs": [
    {
     "name": "stdout",
     "output_type": "stream",
     "text": [
      "Index(['Date', 'Time', 'Global_active_power', 'Global_reactive_power',\n",
      "       'Voltage', 'Global_intensity', 'Sub_metering_1', 'Sub_metering_2',\n",
      "       'Sub_metering_3'],\n",
      "      dtype='object')\n"
     ]
    }
   ],
   "source": [
    "\n",
    "print(data.columns)"
   ]
  },
  {
   "cell_type": "code",
   "execution_count": 10,
   "id": "06062ed8",
   "metadata": {
    "execution": {
     "iopub.execute_input": "2023-12-10T11:03:17.902956Z",
     "iopub.status.busy": "2023-12-10T11:03:17.902694Z",
     "iopub.status.idle": "2023-12-10T11:03:30.650296Z",
     "shell.execute_reply": "2023-12-10T11:03:30.649272Z"
    },
    "papermill": {
     "duration": 12.759094,
     "end_time": "2023-12-10T11:03:30.652795",
     "exception": false,
     "start_time": "2023-12-10T11:03:17.893701",
     "status": "completed"
    },
    "tags": []
   },
   "outputs": [],
   "source": [
    "\n",
    "data['DateTime'] = pd.to_datetime(data['Date'] + ' ' + data['Time'], format='%d/%m/%Y %H:%M:%S')\n"
   ]
  },
  {
   "cell_type": "code",
   "execution_count": 11,
   "id": "a4dbeed6",
   "metadata": {
    "execution": {
     "iopub.execute_input": "2023-12-10T11:03:30.671088Z",
     "iopub.status.busy": "2023-12-10T11:03:30.670776Z",
     "iopub.status.idle": "2023-12-10T11:03:30.676220Z",
     "shell.execute_reply": "2023-12-10T11:03:30.675356Z"
    },
    "papermill": {
     "duration": 0.016775,
     "end_time": "2023-12-10T11:03:30.678192",
     "exception": false,
     "start_time": "2023-12-10T11:03:30.661417",
     "status": "completed"
    },
    "tags": []
   },
   "outputs": [],
   "source": [
    "data.set_index('DateTime', inplace=True)"
   ]
  },
  {
   "cell_type": "code",
   "execution_count": 12,
   "id": "74865563",
   "metadata": {
    "execution": {
     "iopub.execute_input": "2023-12-10T11:03:30.696021Z",
     "iopub.status.busy": "2023-12-10T11:03:30.695736Z",
     "iopub.status.idle": "2023-12-10T11:03:30.738273Z",
     "shell.execute_reply": "2023-12-10T11:03:30.737555Z"
    },
    "papermill": {
     "duration": 0.053814,
     "end_time": "2023-12-10T11:03:30.740201",
     "exception": false,
     "start_time": "2023-12-10T11:03:30.686387",
     "status": "completed"
    },
    "tags": []
   },
   "outputs": [],
   "source": [
    "data = data[['Global_active_power']]"
   ]
  },
  {
   "cell_type": "code",
   "execution_count": 13,
   "id": "a95d3fce",
   "metadata": {
    "execution": {
     "iopub.execute_input": "2023-12-10T11:03:30.757455Z",
     "iopub.status.busy": "2023-12-10T11:03:30.757184Z",
     "iopub.status.idle": "2023-12-10T11:03:30.863569Z",
     "shell.execute_reply": "2023-12-10T11:03:30.862626Z"
    },
    "papermill": {
     "duration": 0.117586,
     "end_time": "2023-12-10T11:03:30.865975",
     "exception": false,
     "start_time": "2023-12-10T11:03:30.748389",
     "status": "completed"
    },
    "tags": []
   },
   "outputs": [
    {
     "name": "stdout",
     "output_type": "stream",
     "text": [
      "                    Global_active_power\n",
      "DateTime                               \n",
      "2006-12-16 17:24:00               4.216\n",
      "2006-12-16 17:25:00               5.360\n",
      "2006-12-16 17:26:00               5.374\n",
      "2006-12-16 17:27:00               5.388\n",
      "2006-12-16 17:28:00               3.666\n",
      "...                                 ...\n",
      "2010-11-26 20:58:00               0.946\n",
      "2010-11-26 20:59:00               0.944\n",
      "2010-11-26 21:00:00               0.938\n",
      "2010-11-26 21:01:00               0.934\n",
      "2010-11-26 21:02:00               0.932\n",
      "\n",
      "[2075259 rows x 1 columns]\n"
     ]
    }
   ],
   "source": [
    "print(data[['Global_active_power']])"
   ]
  },
  {
   "cell_type": "code",
   "execution_count": 14,
   "id": "d73c3096",
   "metadata": {
    "execution": {
     "iopub.execute_input": "2023-12-10T11:03:30.884352Z",
     "iopub.status.busy": "2023-12-10T11:03:30.884049Z",
     "iopub.status.idle": "2023-12-10T11:03:31.184337Z",
     "shell.execute_reply": "2023-12-10T11:03:31.183281Z"
    },
    "papermill": {
     "duration": 0.311946,
     "end_time": "2023-12-10T11:03:31.186789",
     "exception": false,
     "start_time": "2023-12-10T11:03:30.874843",
     "status": "completed"
    },
    "tags": []
   },
   "outputs": [],
   "source": [
    "data.dropna(inplace=True)"
   ]
  },
  {
   "cell_type": "code",
   "execution_count": 15,
   "id": "e2bb4288",
   "metadata": {
    "execution": {
     "iopub.execute_input": "2023-12-10T11:03:31.205945Z",
     "iopub.status.busy": "2023-12-10T11:03:31.205603Z",
     "iopub.status.idle": "2023-12-10T11:04:19.343622Z",
     "shell.execute_reply": "2023-12-10T11:04:19.342658Z"
    },
    "papermill": {
     "duration": 48.159791,
     "end_time": "2023-12-10T11:04:19.355841",
     "exception": false,
     "start_time": "2023-12-10T11:03:31.196050",
     "status": "completed"
    },
    "tags": []
   },
   "outputs": [
    {
     "data": {
      "image/png": "[encoded data removed]",
      "text/plain": [
       "<Figure size 1500x600 with 1 Axes>"
      ]
     },
     "metadata": {},
     "output_type": "display_data"
    }
   ],
   "source": [
    "%matplotlib inline\n",
    "plt.figure(figsize=(15, 6))\n",
    "plt.plot(data.index, data['Global_active_power'])\n",
    "plt.title('Global Active Power Over Time')\n",
    "plt.xlabel('Time')\n",
    "plt.ylabel('Global Active Power')\n",
    "\n",
    "\n",
    "plt.show()"
   ]
  },
  {
   "cell_type": "code",
   "execution_count": 16,
   "id": "3cb15b2b",
   "metadata": {
    "execution": {
     "iopub.execute_input": "2023-12-10T11:04:19.378305Z",
     "iopub.status.busy": "2023-12-10T11:04:19.377955Z",
     "iopub.status.idle": "2023-12-10T11:04:19.524199Z",
     "shell.execute_reply": "2023-12-10T11:04:19.523217Z"
    },
    "papermill": {
     "duration": 0.161172,
     "end_time": "2023-12-10T11:04:19.526648",
     "exception": false,
     "start_time": "2023-12-10T11:04:19.365476",
     "status": "completed"
    },
    "tags": []
   },
   "outputs": [],
   "source": [
    "\n",
    "data['Month'] = data.index.month\n",
    "data['Day'] = data.index.day\n",
    "data['Hour'] = data.index.hour\n"
   ]
  },
  {
   "cell_type": "code",
   "execution_count": 17,
   "id": "6f2c72bd",
   "metadata": {
    "execution": {
     "iopub.execute_input": "2023-12-10T11:04:19.547120Z",
     "iopub.status.busy": "2023-12-10T11:04:19.546821Z",
     "iopub.status.idle": "2023-12-10T11:04:19.969734Z",
     "shell.execute_reply": "2023-12-10T11:04:19.968725Z"
    },
    "papermill": {
     "duration": 0.436177,
     "end_time": "2023-12-10T11:04:19.972104",
     "exception": false,
     "start_time": "2023-12-10T11:04:19.535927",
     "status": "completed"
    },
    "tags": []
   },
   "outputs": [],
   "source": [
    "data.replace('?', np.nan, inplace=True)"
   ]
  },
  {
   "cell_type": "code",
   "execution_count": 18,
   "id": "f1541cb0",
   "metadata": {
    "execution": {
     "iopub.execute_input": "2023-12-10T11:04:19.991083Z",
     "iopub.status.busy": "2023-12-10T11:04:19.990788Z",
     "iopub.status.idle": "2023-12-10T11:04:22.849734Z",
     "shell.execute_reply": "2023-12-10T11:04:22.848609Z"
    },
    "papermill": {
     "duration": 2.871266,
     "end_time": "2023-12-10T11:04:22.852327",
     "exception": false,
     "start_time": "2023-12-10T11:04:19.981061",
     "status": "completed"
    },
    "tags": []
   },
   "outputs": [],
   "source": [
    "warnings.filterwarnings(\"ignore\", category=FutureWarning)\n",
    "scaler = MinMaxScaler(feature_range=(0, 1))\n",
    "data_scaled = scaler.fit_transform(data)\n"
   ]
  },
  {
   "cell_type": "code",
   "execution_count": 19,
   "id": "5540dc94",
   "metadata": {
    "execution": {
     "iopub.execute_input": "2023-12-10T11:04:22.874498Z",
     "iopub.status.busy": "2023-12-10T11:04:22.874156Z",
     "iopub.status.idle": "2023-12-10T11:04:26.841010Z",
     "shell.execute_reply": "2023-12-10T11:04:26.839920Z"
    },
    "papermill": {
     "duration": 3.980985,
     "end_time": "2023-12-10T11:04:26.843624",
     "exception": false,
     "start_time": "2023-12-10T11:04:22.862639",
     "status": "completed"
    },
    "tags": []
   },
   "outputs": [],
   "source": [
    "\n",
    "sequenceLength = 10 \n",
    "\n",
    "\n",
    "X, y = [], []\n",
    "for i in range(len(data_scaled) - sequenceLength):\n",
    "    X.append(data_scaled[i:i+sequenceLength, 0])\n",
    "    y.append(data_scaled[i+sequenceLength, 0])\n",
    "\n",
    "X, y = np.array(X), np.array(y)\n",
    "\n",
    "X = np.reshape(X, (X.shape[0], X.shape[1], 1))\n"
   ]
  },
  {
   "cell_type": "code",
   "execution_count": 20,
   "id": "6f1a516c",
   "metadata": {
    "execution": {
     "iopub.execute_input": "2023-12-10T11:04:26.865287Z",
     "iopub.status.busy": "2023-12-10T11:04:26.864943Z",
     "iopub.status.idle": "2023-12-10T11:04:26.869685Z",
     "shell.execute_reply": "2023-12-10T11:04:26.868819Z"
    },
    "papermill": {
     "duration": 0.01771,
     "end_time": "2023-12-10T11:04:26.871680",
     "exception": false,
     "start_time": "2023-12-10T11:04:26.853970",
     "status": "completed"
    },
    "tags": []
   },
   "outputs": [],
   "source": [
    "\n",
    "train_size = int(len(data_scaled) * 0.80)\n",
    "train, test = data_scaled[0:train_size], data_scaled[train_size:]\n"
   ]
  },
  {
   "cell_type": "code",
   "execution_count": 21,
   "id": "34425d4b",
   "metadata": {
    "execution": {
     "iopub.execute_input": "2023-12-10T11:04:26.890999Z",
     "iopub.status.busy": "2023-12-10T11:04:26.890714Z",
     "iopub.status.idle": "2023-12-10T11:04:31.445963Z",
     "shell.execute_reply": "2023-12-10T11:04:31.445040Z"
    },
    "papermill": {
     "duration": 4.567657,
     "end_time": "2023-12-10T11:04:31.448177",
     "exception": false,
     "start_time": "2023-12-10T11:04:26.880520",
     "status": "completed"
    },
    "tags": []
   },
   "outputs": [],
   "source": [
    "model = Sequential()\n",
    "model.add(LSTM(units=50, return_sequences=True, input_shape=(X.shape[1], 1)))\n",
    "model.add(LSTM(units=50))\n",
    "model.add(Dense(units=1))\n",
    "model.compile(optimizer='adam', loss='mean_squared_error')\n"
   ]
  },
  {
   "cell_type": "code",
   "execution_count": 22,
   "id": "0eb37fd7",
   "metadata": {
    "execution": {
     "iopub.execute_input": "2023-12-10T11:04:31.468022Z",
     "iopub.status.busy": "2023-12-10T11:04:31.467518Z",
     "iopub.status.idle": "2023-12-10T11:10:13.818112Z",
     "shell.execute_reply": "2023-12-10T11:10:13.816983Z"
    },
    "papermill": {
     "duration": 342.363181,
     "end_time": "2023-12-10T11:10:13.820341",
     "exception": false,
     "start_time": "2023-12-10T11:04:31.457160",
     "status": "completed"
    },
    "tags": []
   },
   "outputs": [
    {
     "name": "stdout",
     "output_type": "stream",
     "text": [
      "64852/64852 [==============================] - 342s 5ms/step - loss: nan\n"
     ]
    },
    {
     "data": {
      "text/plain": [
       "<keras.src.callbacks.History at 0x7c08ff6a4d00>"
      ]
     },
     "execution_count": 22,
     "metadata": {},
     "output_type": "execute_result"
    }
   ],
   "source": [
    "epochs = 1\n",
    "batch_size = 32  \n",
    "model.fit(X, y, epochs=epochs, batch_size=batch_size)\n",
    "\n"
   ]
  },
  {
   "cell_type": "code",
   "execution_count": 23,
   "id": "52410cf3",
   "metadata": {
    "execution": {
     "iopub.execute_input": "2023-12-10T11:10:14.902161Z",
     "iopub.status.busy": "2023-12-10T11:10:14.901793Z",
     "iopub.status.idle": "2023-12-10T11:12:54.903256Z",
     "shell.execute_reply": "2023-12-10T11:12:54.902308Z"
    },
    "papermill": {
     "duration": 160.571207,
     "end_time": "2023-12-10T11:12:54.905582",
     "exception": false,
     "start_time": "2023-12-10T11:10:14.334375",
     "status": "completed"
    },
    "tags": []
   },
   "outputs": [
    {
     "name": "stdout",
     "output_type": "stream",
     "text": [
      "51883/51883 [==============================] - 122s 2ms/step\n"
     ]
    }
   ],
   "source": [
    "\n",
    "test_inputs = data_scaled[len(data_scaled) - len(test) - sequenceLength:]\n",
    "test_inputs = test_inputs.reshape(-1, 1)\n",
    "\n",
    "X_test = []\n",
    "for i in range(sequenceLength, len(test_inputs)):\n",
    "    X_test.append(test_inputs[i-sequenceLength:i, 0])\n",
    "\n",
    "X_test = np.array(X_test)\n",
    "X_test = np.reshape(X_test, (X_test.shape[0], X_test.shape[1], 1))\n",
    "\n",
    "predicted_values = model.predict(X_test)\n",
    "\n",
    "\n",
    "\n",
    "\n"
   ]
  },
  {
   "cell_type": "code",
   "execution_count": 24,
   "id": "bbc76cec",
   "metadata": {
    "execution": {
     "iopub.execute_input": "2023-12-10T11:12:56.355951Z",
     "iopub.status.busy": "2023-12-10T11:12:56.355540Z",
     "iopub.status.idle": "2023-12-10T11:12:56.360254Z",
     "shell.execute_reply": "2023-12-10T11:12:56.359368Z"
    },
    "papermill": {
     "duration": 0.76024,
     "end_time": "2023-12-10T11:12:56.362180",
     "exception": false,
     "start_time": "2023-12-10T11:12:55.601940",
     "status": "completed"
    },
    "tags": []
   },
   "outputs": [],
   "source": [
    "predicted_values = predicted_values.reshape(-1,1) "
   ]
  },
  {
   "cell_type": "code",
   "execution_count": 25,
   "id": "203a6414",
   "metadata": {
    "execution": {
     "iopub.execute_input": "2023-12-10T11:12:57.773417Z",
     "iopub.status.busy": "2023-12-10T11:12:57.773050Z",
     "iopub.status.idle": "2023-12-10T11:12:59.967980Z",
     "shell.execute_reply": "2023-12-10T11:12:59.967054Z"
    },
    "papermill": {
     "duration": 2.910843,
     "end_time": "2023-12-10T11:12:59.969980",
     "exception": false,
     "start_time": "2023-12-10T11:12:57.059137",
     "status": "completed"
    },
    "tags": []
   },
   "outputs": [
    {
     "data": {
      "image/png": "[encoded data removed]",
      "text/plain": [
       "<Figure size 1500x600 with 1 Axes>"
      ]
     },
     "metadata": {},
     "output_type": "display_data"
    }
   ],
   "source": [
    "test_index = range(len(test))\n",
    "length_common = min(len(test_index), len(test), len(predicted_values))\n",
    "\n",
    "plt.figure(figsize=(15, 6))\n",
    "plt.plot(test_index[:length_common], test[:length_common, 0], label='Actual Power Consumption')\n",
    "plt.plot(test_index[:length_common], predicted_values[:length_common, 0], label='Predicted Power Consumption', color='red')\n",
    "plt.title('LSTM Time Series Forecasting Model')\n",
    "plt.xlabel('Time')\n",
    "plt.ylabel('Global Active Power')\n",
    "plt.legend()\n",
    "plt.show()"
   ]
  },
  {
   "cell_type": "code",
   "execution_count": null,
   "id": "2906966c",
   "metadata": {
    "papermill": {
     "duration": 0.689149,
     "end_time": "2023-12-10T11:13:01.398282",
     "exception": false,
     "start_time": "2023-12-10T11:13:00.709133",
     "status": "completed"
    },
    "tags": []
   },
   "outputs": [],
   "source": [
    "\n"
   ]
  },
  {
   "cell_type": "code",
   "execution_count": null,
   "id": "2fe72b6d",
   "metadata": {
    "papermill": {
     "duration": 0.69281,
     "end_time": "2023-12-10T11:13:02.785153",
     "exception": false,
     "start_time": "2023-12-10T11:13:02.092343",
     "status": "completed"
    },
    "tags": []
   },
   "outputs": [],
   "source": []
  }
 ],
 "metadata": {
  "kaggle": {
   "accelerator": "nvidiaTeslaT4",
   "dataSources": [
    {
     "datasetId": 122,
     "sourceId": 260,
     "sourceType": "datasetVersion"
    }
   ],
   "dockerImageVersionId": 30615,
   "isGpuEnabled": true,
   "isInternetEnabled": true,
   "language": "python",
   "sourceType": "notebook"
  },
  "kernelspec": {
   "display_name": "Python 3",
   "language": "python",
   "name": "python3"
  },
  "language_info": {
   "codemirror_mode": {
    "name": "ipython",
    "version": 3
   },
   "file_extension": ".py",
   "mimetype": "text/x-python",
   "name": "python",
   "nbconvert_exporter": "python",
   "pygments_lexer": "ipython3",
   "version": "3.10.12"
  },
  "papermill": {
   "default_parameters": {},
   "duration": 619.828579,
   "end_time": "2023-12-10T11:13:06.562260",
   "environment_variables": {},
   "exception": null,
   "input_path": "__notebook__.ipynb",
   "output_path": "__notebook__.ipynb",
   "parameters": {},
   "start_time": "2023-12-10T11:02:46.733681",
   "version": "2.4.0"
  }
 },
 "nbformat": 4,
 "nbformat_minor": 5
}
